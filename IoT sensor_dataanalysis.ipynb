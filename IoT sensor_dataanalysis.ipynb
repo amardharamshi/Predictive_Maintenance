{
  "cells": [
    {
      "cell_type": "code",
      "execution_count": null,
      "id": "932daf6c",
      "metadata": {
        "id": "932daf6c"
      },
      "outputs": [],
      "source": [
        "import numpy as np\n",
        "import pandas as pd\n",
        "import random\n",
        "from sklearn.linear_model import LogisticRegression\n",
        "from sklearn.model_selection import train_test_split\n",
        "import seaborn as sns\n",
        "from sklearn.metrics import accuracy_score, confusion_matrix, precision_score, recall_score, f1_score\n",
        "from sklearn.metrics import roc_curve, roc_auc_score\n",
        "import matplotlib.pyplot as plt\n",
        "import seaborn as sns"
      ]
    },
    {
      "cell_type": "code",
      "execution_count": 10,
      "id": "961238ff",
      "metadata": {
        "colab": {
          "base_uri": "https://localhost:8080/"
        },
        "id": "961238ff",
        "outputId": "dc9167f0-3e37-4069-806f-d344270750dc"
      },
      "outputs": [
        {
          "output_type": "stream",
          "name": "stdout",
          "text": [
            "            timestamp  temperature    pressure  water_level machine_status\n",
            "0 2023-01-01 00:00:00    72.483571  118.486631          NaN        Running\n",
            "1 2023-01-01 00:01:00    69.308678   86.923574    46.117284        Running\n",
            "2 2023-01-01 00:02:00    73.238443  102.736601    53.731974        Failure\n",
            "3 2023-01-01 00:03:00    77.615149  115.668547    51.326640        Running\n",
            "4 2023-01-01 00:04:00    68.829233         NaN    48.298024        Running\n"
          ]
        }
      ],
      "source": [
        "# Set seed for reproducibility\n",
        "np.random.seed(42)\n",
        "\n",
        "# Generate timestamp data for 1 week at 1-minute intervals\n",
        "time_index = pd.date_range('2023-01-01', periods=10080, freq='T')\n",
        "\n",
        "# Generate temperature, pressure, and water level data with random noise\n",
        "temperature = np.random.normal(loc=70, scale=5, size=len(time_index))\n",
        "pressure = np.random.normal(loc=100, scale=10, size=len(time_index))\n",
        "water_level = np.random.normal(loc=50, scale=5, size=len(time_index))\n",
        "\n",
        "# Add missing sensor measurements due to connectivity issues\n",
        "missing_prob = 0.05 # probability of a measurement being missing\n",
        "for i in range(len(time_index)):\n",
        "    if random.random() < missing_prob:\n",
        "        temperature[i] = np.nan\n",
        "    if random.random() < missing_prob:\n",
        "        pressure[i] = np.nan\n",
        "    if random.random() < missing_prob:\n",
        "        water_level[i] = np.nan\n",
        "\n",
        "# Add faulty measurements at random times and periods\n",
        "faulty_index = random.sample(range(len(time_index)), 50)\n",
        "temperature[faulty_index] = 80\n",
        "pressure[faulty_index] = 120\n",
        "water_level[faulty_index] = 60\n",
        "\n",
        "# Generate machine status data randomly, with 25% chance for each state\n",
        "machine_status = np.random.choice(['Running', 'Idle', 'Off', 'Failure'], size=len(time_index), p=[0.5, 0.20, 0.10, 0.20])\n",
        "\n",
        "# Create a pandas DataFrame to store the generated data\n",
        "data = pd.DataFrame({'timestamp': time_index,\n",
        "                     'temperature': temperature,\n",
        "                     'pressure': pressure,\n",
        "                     'water_level': water_level,\n",
        "                     'machine_status': machine_status})\n",
        "\n",
        "# Add random noise to the measurements\n",
        "noise_scale = 0.1 # scale of the noise\n",
        "temperature += np.random.normal(loc=0, scale=noise_scale, size=len(time_index))\n",
        "pressure += np.random.normal(loc=0, scale=noise_scale, size=len(time_index))\n",
        "water_level += np.random.normal(loc=0, scale=noise_scale, size=len(time_index))\n",
        "\n",
        "# Print the first few rows of the data\n",
        "print(data.head())\n",
        "data.to_csv('Machine_Data_final.csv')\n"
      ]
    },
    {
      "cell_type": "code",
      "execution_count": 11,
      "id": "4fd3a139",
      "metadata": {
        "id": "4fd3a139",
        "colab": {
          "base_uri": "https://localhost:8080/",
          "height": 424
        },
        "outputId": "69a7c2d9-0208-457c-8275-17bd640ab6ec"
      },
      "outputs": [
        {
          "output_type": "execute_result",
          "data": {
            "text/plain": [
              "                 timestamp  temperature    pressure  water_level  \\\n",
              "0      2023-01-01 00:00:00    72.483571  118.486631          NaN   \n",
              "1      2023-01-01 00:01:00    69.308678   86.923574    46.117284   \n",
              "2      2023-01-01 00:02:00    73.238443  102.736601    53.731974   \n",
              "3      2023-01-01 00:03:00    77.615149  115.668547    51.326640   \n",
              "4      2023-01-01 00:04:00    68.829233         NaN    48.298024   \n",
              "...                    ...          ...         ...          ...   \n",
              "10075  2023-01-07 23:55:00    68.448019  111.135214    48.000193   \n",
              "10076  2023-01-07 23:56:00    66.715823   93.536827    56.803056   \n",
              "10077  2023-01-07 23:57:00    64.608425         NaN          NaN   \n",
              "10078  2023-01-07 23:58:00    71.794588         NaN    52.582925   \n",
              "10079  2023-01-07 23:59:00    64.801034   98.953534    54.607585   \n",
              "\n",
              "      machine_status  \n",
              "0            Running  \n",
              "1            Running  \n",
              "2            Failure  \n",
              "3            Running  \n",
              "4            Running  \n",
              "...              ...  \n",
              "10075        Running  \n",
              "10076        Running  \n",
              "10077        Running  \n",
              "10078            Off  \n",
              "10079        Running  \n",
              "\n",
              "[10080 rows x 5 columns]"
            ],
            "text/html": [
              "\n",
              "  <div id=\"df-fbf950f8-ac75-4f6b-898a-b20bcd373deb\">\n",
              "    <div class=\"colab-df-container\">\n",
              "      <div>\n",
              "<style scoped>\n",
              "    .dataframe tbody tr th:only-of-type {\n",
              "        vertical-align: middle;\n",
              "    }\n",
              "\n",
              "    .dataframe tbody tr th {\n",
              "        vertical-align: top;\n",
              "    }\n",
              "\n",
              "    .dataframe thead th {\n",
              "        text-align: right;\n",
              "    }\n",
              "</style>\n",
              "<table border=\"1\" class=\"dataframe\">\n",
              "  <thead>\n",
              "    <tr style=\"text-align: right;\">\n",
              "      <th></th>\n",
              "      <th>timestamp</th>\n",
              "      <th>temperature</th>\n",
              "      <th>pressure</th>\n",
              "      <th>water_level</th>\n",
              "      <th>machine_status</th>\n",
              "    </tr>\n",
              "  </thead>\n",
              "  <tbody>\n",
              "    <tr>\n",
              "      <th>0</th>\n",
              "      <td>2023-01-01 00:00:00</td>\n",
              "      <td>72.483571</td>\n",
              "      <td>118.486631</td>\n",
              "      <td>NaN</td>\n",
              "      <td>Running</td>\n",
              "    </tr>\n",
              "    <tr>\n",
              "      <th>1</th>\n",
              "      <td>2023-01-01 00:01:00</td>\n",
              "      <td>69.308678</td>\n",
              "      <td>86.923574</td>\n",
              "      <td>46.117284</td>\n",
              "      <td>Running</td>\n",
              "    </tr>\n",
              "    <tr>\n",
              "      <th>2</th>\n",
              "      <td>2023-01-01 00:02:00</td>\n",
              "      <td>73.238443</td>\n",
              "      <td>102.736601</td>\n",
              "      <td>53.731974</td>\n",
              "      <td>Failure</td>\n",
              "    </tr>\n",
              "    <tr>\n",
              "      <th>3</th>\n",
              "      <td>2023-01-01 00:03:00</td>\n",
              "      <td>77.615149</td>\n",
              "      <td>115.668547</td>\n",
              "      <td>51.326640</td>\n",
              "      <td>Running</td>\n",
              "    </tr>\n",
              "    <tr>\n",
              "      <th>4</th>\n",
              "      <td>2023-01-01 00:04:00</td>\n",
              "      <td>68.829233</td>\n",
              "      <td>NaN</td>\n",
              "      <td>48.298024</td>\n",
              "      <td>Running</td>\n",
              "    </tr>\n",
              "    <tr>\n",
              "      <th>...</th>\n",
              "      <td>...</td>\n",
              "      <td>...</td>\n",
              "      <td>...</td>\n",
              "      <td>...</td>\n",
              "      <td>...</td>\n",
              "    </tr>\n",
              "    <tr>\n",
              "      <th>10075</th>\n",
              "      <td>2023-01-07 23:55:00</td>\n",
              "      <td>68.448019</td>\n",
              "      <td>111.135214</td>\n",
              "      <td>48.000193</td>\n",
              "      <td>Running</td>\n",
              "    </tr>\n",
              "    <tr>\n",
              "      <th>10076</th>\n",
              "      <td>2023-01-07 23:56:00</td>\n",
              "      <td>66.715823</td>\n",
              "      <td>93.536827</td>\n",
              "      <td>56.803056</td>\n",
              "      <td>Running</td>\n",
              "    </tr>\n",
              "    <tr>\n",
              "      <th>10077</th>\n",
              "      <td>2023-01-07 23:57:00</td>\n",
              "      <td>64.608425</td>\n",
              "      <td>NaN</td>\n",
              "      <td>NaN</td>\n",
              "      <td>Running</td>\n",
              "    </tr>\n",
              "    <tr>\n",
              "      <th>10078</th>\n",
              "      <td>2023-01-07 23:58:00</td>\n",
              "      <td>71.794588</td>\n",
              "      <td>NaN</td>\n",
              "      <td>52.582925</td>\n",
              "      <td>Off</td>\n",
              "    </tr>\n",
              "    <tr>\n",
              "      <th>10079</th>\n",
              "      <td>2023-01-07 23:59:00</td>\n",
              "      <td>64.801034</td>\n",
              "      <td>98.953534</td>\n",
              "      <td>54.607585</td>\n",
              "      <td>Running</td>\n",
              "    </tr>\n",
              "  </tbody>\n",
              "</table>\n",
              "<p>10080 rows × 5 columns</p>\n",
              "</div>\n",
              "      <button class=\"colab-df-convert\" onclick=\"convertToInteractive('df-fbf950f8-ac75-4f6b-898a-b20bcd373deb')\"\n",
              "              title=\"Convert this dataframe to an interactive table.\"\n",
              "              style=\"display:none;\">\n",
              "        \n",
              "  <svg xmlns=\"http://www.w3.org/2000/svg\" height=\"24px\"viewBox=\"0 0 24 24\"\n",
              "       width=\"24px\">\n",
              "    <path d=\"M0 0h24v24H0V0z\" fill=\"none\"/>\n",
              "    <path d=\"M18.56 5.44l.94 2.06.94-2.06 2.06-.94-2.06-.94-.94-2.06-.94 2.06-2.06.94zm-11 1L8.5 8.5l.94-2.06 2.06-.94-2.06-.94L8.5 2.5l-.94 2.06-2.06.94zm10 10l.94 2.06.94-2.06 2.06-.94-2.06-.94-.94-2.06-.94 2.06-2.06.94z\"/><path d=\"M17.41 7.96l-1.37-1.37c-.4-.4-.92-.59-1.43-.59-.52 0-1.04.2-1.43.59L10.3 9.45l-7.72 7.72c-.78.78-.78 2.05 0 2.83L4 21.41c.39.39.9.59 1.41.59.51 0 1.02-.2 1.41-.59l7.78-7.78 2.81-2.81c.8-.78.8-2.07 0-2.86zM5.41 20L4 18.59l7.72-7.72 1.47 1.35L5.41 20z\"/>\n",
              "  </svg>\n",
              "      </button>\n",
              "      \n",
              "  <style>\n",
              "    .colab-df-container {\n",
              "      display:flex;\n",
              "      flex-wrap:wrap;\n",
              "      gap: 12px;\n",
              "    }\n",
              "\n",
              "    .colab-df-convert {\n",
              "      background-color: #E8F0FE;\n",
              "      border: none;\n",
              "      border-radius: 50%;\n",
              "      cursor: pointer;\n",
              "      display: none;\n",
              "      fill: #1967D2;\n",
              "      height: 32px;\n",
              "      padding: 0 0 0 0;\n",
              "      width: 32px;\n",
              "    }\n",
              "\n",
              "    .colab-df-convert:hover {\n",
              "      background-color: #E2EBFA;\n",
              "      box-shadow: 0px 1px 2px rgba(60, 64, 67, 0.3), 0px 1px 3px 1px rgba(60, 64, 67, 0.15);\n",
              "      fill: #174EA6;\n",
              "    }\n",
              "\n",
              "    [theme=dark] .colab-df-convert {\n",
              "      background-color: #3B4455;\n",
              "      fill: #D2E3FC;\n",
              "    }\n",
              "\n",
              "    [theme=dark] .colab-df-convert:hover {\n",
              "      background-color: #434B5C;\n",
              "      box-shadow: 0px 1px 3px 1px rgba(0, 0, 0, 0.15);\n",
              "      filter: drop-shadow(0px 1px 2px rgba(0, 0, 0, 0.3));\n",
              "      fill: #FFFFFF;\n",
              "    }\n",
              "  </style>\n",
              "\n",
              "      <script>\n",
              "        const buttonEl =\n",
              "          document.querySelector('#df-fbf950f8-ac75-4f6b-898a-b20bcd373deb button.colab-df-convert');\n",
              "        buttonEl.style.display =\n",
              "          google.colab.kernel.accessAllowed ? 'block' : 'none';\n",
              "\n",
              "        async function convertToInteractive(key) {\n",
              "          const element = document.querySelector('#df-fbf950f8-ac75-4f6b-898a-b20bcd373deb');\n",
              "          const dataTable =\n",
              "            await google.colab.kernel.invokeFunction('convertToInteractive',\n",
              "                                                     [key], {});\n",
              "          if (!dataTable) return;\n",
              "\n",
              "          const docLinkHtml = 'Like what you see? Visit the ' +\n",
              "            '<a target=\"_blank\" href=https://colab.research.google.com/notebooks/data_table.ipynb>data table notebook</a>'\n",
              "            + ' to learn more about interactive tables.';\n",
              "          element.innerHTML = '';\n",
              "          dataTable['output_type'] = 'display_data';\n",
              "          await google.colab.output.renderOutput(dataTable, element);\n",
              "          const docLink = document.createElement('div');\n",
              "          docLink.innerHTML = docLinkHtml;\n",
              "          element.appendChild(docLink);\n",
              "        }\n",
              "      </script>\n",
              "    </div>\n",
              "  </div>\n",
              "  "
            ]
          },
          "metadata": {},
          "execution_count": 11
        }
      ],
      "source": [
        "df = pd.read_csv('Machine_Data_final.csv')\n",
        "df = df.drop('Unnamed: 0',axis=1)\n",
        "df"
      ]
    },
    {
      "cell_type": "code",
      "execution_count": 12,
      "id": "d9f5af1a",
      "metadata": {
        "colab": {
          "base_uri": "https://localhost:8080/",
          "height": 300
        },
        "id": "d9f5af1a",
        "outputId": "c2a813d5-b3ef-41f2-f84b-9a027940b46c"
      },
      "outputs": [
        {
          "output_type": "execute_result",
          "data": {
            "text/plain": [
              "       temperature     pressure  water_level\n",
              "count  9582.000000  9601.000000  9593.000000\n",
              "mean     70.042656   100.242058    49.998273\n",
              "std       5.043623    10.114889     4.990037\n",
              "min      50.387999    61.436247    31.724567\n",
              "25%      66.691374    93.383101    46.559956\n",
              "50%      70.036353   100.189991    50.013114\n",
              "75%      73.409272   107.074872    53.372496\n",
              "max      89.631189   144.790843    68.458123"
            ],
            "text/html": [
              "\n",
              "  <div id=\"df-68c01ea9-9f48-4e63-8622-0a9d5499af90\">\n",
              "    <div class=\"colab-df-container\">\n",
              "      <div>\n",
              "<style scoped>\n",
              "    .dataframe tbody tr th:only-of-type {\n",
              "        vertical-align: middle;\n",
              "    }\n",
              "\n",
              "    .dataframe tbody tr th {\n",
              "        vertical-align: top;\n",
              "    }\n",
              "\n",
              "    .dataframe thead th {\n",
              "        text-align: right;\n",
              "    }\n",
              "</style>\n",
              "<table border=\"1\" class=\"dataframe\">\n",
              "  <thead>\n",
              "    <tr style=\"text-align: right;\">\n",
              "      <th></th>\n",
              "      <th>temperature</th>\n",
              "      <th>pressure</th>\n",
              "      <th>water_level</th>\n",
              "    </tr>\n",
              "  </thead>\n",
              "  <tbody>\n",
              "    <tr>\n",
              "      <th>count</th>\n",
              "      <td>9582.000000</td>\n",
              "      <td>9601.000000</td>\n",
              "      <td>9593.000000</td>\n",
              "    </tr>\n",
              "    <tr>\n",
              "      <th>mean</th>\n",
              "      <td>70.042656</td>\n",
              "      <td>100.242058</td>\n",
              "      <td>49.998273</td>\n",
              "    </tr>\n",
              "    <tr>\n",
              "      <th>std</th>\n",
              "      <td>5.043623</td>\n",
              "      <td>10.114889</td>\n",
              "      <td>4.990037</td>\n",
              "    </tr>\n",
              "    <tr>\n",
              "      <th>min</th>\n",
              "      <td>50.387999</td>\n",
              "      <td>61.436247</td>\n",
              "      <td>31.724567</td>\n",
              "    </tr>\n",
              "    <tr>\n",
              "      <th>25%</th>\n",
              "      <td>66.691374</td>\n",
              "      <td>93.383101</td>\n",
              "      <td>46.559956</td>\n",
              "    </tr>\n",
              "    <tr>\n",
              "      <th>50%</th>\n",
              "      <td>70.036353</td>\n",
              "      <td>100.189991</td>\n",
              "      <td>50.013114</td>\n",
              "    </tr>\n",
              "    <tr>\n",
              "      <th>75%</th>\n",
              "      <td>73.409272</td>\n",
              "      <td>107.074872</td>\n",
              "      <td>53.372496</td>\n",
              "    </tr>\n",
              "    <tr>\n",
              "      <th>max</th>\n",
              "      <td>89.631189</td>\n",
              "      <td>144.790843</td>\n",
              "      <td>68.458123</td>\n",
              "    </tr>\n",
              "  </tbody>\n",
              "</table>\n",
              "</div>\n",
              "      <button class=\"colab-df-convert\" onclick=\"convertToInteractive('df-68c01ea9-9f48-4e63-8622-0a9d5499af90')\"\n",
              "              title=\"Convert this dataframe to an interactive table.\"\n",
              "              style=\"display:none;\">\n",
              "        \n",
              "  <svg xmlns=\"http://www.w3.org/2000/svg\" height=\"24px\"viewBox=\"0 0 24 24\"\n",
              "       width=\"24px\">\n",
              "    <path d=\"M0 0h24v24H0V0z\" fill=\"none\"/>\n",
              "    <path d=\"M18.56 5.44l.94 2.06.94-2.06 2.06-.94-2.06-.94-.94-2.06-.94 2.06-2.06.94zm-11 1L8.5 8.5l.94-2.06 2.06-.94-2.06-.94L8.5 2.5l-.94 2.06-2.06.94zm10 10l.94 2.06.94-2.06 2.06-.94-2.06-.94-.94-2.06-.94 2.06-2.06.94z\"/><path d=\"M17.41 7.96l-1.37-1.37c-.4-.4-.92-.59-1.43-.59-.52 0-1.04.2-1.43.59L10.3 9.45l-7.72 7.72c-.78.78-.78 2.05 0 2.83L4 21.41c.39.39.9.59 1.41.59.51 0 1.02-.2 1.41-.59l7.78-7.78 2.81-2.81c.8-.78.8-2.07 0-2.86zM5.41 20L4 18.59l7.72-7.72 1.47 1.35L5.41 20z\"/>\n",
              "  </svg>\n",
              "      </button>\n",
              "      \n",
              "  <style>\n",
              "    .colab-df-container {\n",
              "      display:flex;\n",
              "      flex-wrap:wrap;\n",
              "      gap: 12px;\n",
              "    }\n",
              "\n",
              "    .colab-df-convert {\n",
              "      background-color: #E8F0FE;\n",
              "      border: none;\n",
              "      border-radius: 50%;\n",
              "      cursor: pointer;\n",
              "      display: none;\n",
              "      fill: #1967D2;\n",
              "      height: 32px;\n",
              "      padding: 0 0 0 0;\n",
              "      width: 32px;\n",
              "    }\n",
              "\n",
              "    .colab-df-convert:hover {\n",
              "      background-color: #E2EBFA;\n",
              "      box-shadow: 0px 1px 2px rgba(60, 64, 67, 0.3), 0px 1px 3px 1px rgba(60, 64, 67, 0.15);\n",
              "      fill: #174EA6;\n",
              "    }\n",
              "\n",
              "    [theme=dark] .colab-df-convert {\n",
              "      background-color: #3B4455;\n",
              "      fill: #D2E3FC;\n",
              "    }\n",
              "\n",
              "    [theme=dark] .colab-df-convert:hover {\n",
              "      background-color: #434B5C;\n",
              "      box-shadow: 0px 1px 3px 1px rgba(0, 0, 0, 0.15);\n",
              "      filter: drop-shadow(0px 1px 2px rgba(0, 0, 0, 0.3));\n",
              "      fill: #FFFFFF;\n",
              "    }\n",
              "  </style>\n",
              "\n",
              "      <script>\n",
              "        const buttonEl =\n",
              "          document.querySelector('#df-68c01ea9-9f48-4e63-8622-0a9d5499af90 button.colab-df-convert');\n",
              "        buttonEl.style.display =\n",
              "          google.colab.kernel.accessAllowed ? 'block' : 'none';\n",
              "\n",
              "        async function convertToInteractive(key) {\n",
              "          const element = document.querySelector('#df-68c01ea9-9f48-4e63-8622-0a9d5499af90');\n",
              "          const dataTable =\n",
              "            await google.colab.kernel.invokeFunction('convertToInteractive',\n",
              "                                                     [key], {});\n",
              "          if (!dataTable) return;\n",
              "\n",
              "          const docLinkHtml = 'Like what you see? Visit the ' +\n",
              "            '<a target=\"_blank\" href=https://colab.research.google.com/notebooks/data_table.ipynb>data table notebook</a>'\n",
              "            + ' to learn more about interactive tables.';\n",
              "          element.innerHTML = '';\n",
              "          dataTable['output_type'] = 'display_data';\n",
              "          await google.colab.output.renderOutput(dataTable, element);\n",
              "          const docLink = document.createElement('div');\n",
              "          docLink.innerHTML = docLinkHtml;\n",
              "          element.appendChild(docLink);\n",
              "        }\n",
              "      </script>\n",
              "    </div>\n",
              "  </div>\n",
              "  "
            ]
          },
          "metadata": {},
          "execution_count": 12
        }
      ],
      "source": [
        "df.describe()"
      ]
    },
    {
      "cell_type": "code",
      "execution_count": 13,
      "id": "bcc211af",
      "metadata": {
        "id": "bcc211af",
        "outputId": "4c557377-f67e-4bed-d753-66cb2b042cd7",
        "colab": {
          "base_uri": "https://localhost:8080/",
          "height": 435
        }
      },
      "outputs": [
        {
          "output_type": "display_data",
          "data": {
            "text/plain": [
              "<Figure size 720x432 with 1 Axes>"
            ],
            "image/png": "[encoded data removed]"
          },
          "metadata": {
            "needs_background": "light"
          }
        }
      ],
      "source": [
        "# a bar chart of machine status counts\n",
        "fig, ax = plt.subplots(figsize=(10, 6))\n",
        "df['machine_status'].value_counts().plot(kind='bar', ax=ax)\n",
        "ax.set_xlabel('Machine status')\n",
        "ax.set_ylabel('Count')\n",
        "ax.set_title('Machine status counts')\n",
        "plt.show()"
      ]
    },
    {
      "cell_type": "code",
      "execution_count": null,
      "id": "26d86bfc",
      "metadata": {
        "id": "26d86bfc",
        "outputId": "0625f84d-52f9-4b72-d64f-7130024e0ff6",
        "colab": {
          "base_uri": "https://localhost:8080/",
          "height": 373
        }
      },
      "outputs": [
        {
          "output_type": "display_data",
          "data": {
            "text/plain": [
              "<Figure size 720x432 with 1 Axes>"
            ],
            "image/png": "[encoded data removed]"
          },
          "metadata": {}
        }
      ],
      "source": [
        "# a pie chart of machine status percentages\n",
        "fig, ax = plt.subplots(figsize=(10, 6))\n",
        "df['machine_status'].value_counts().plot(kind='pie', ax=ax, autopct='%1.1f%%')\n",
        "ax.set_ylabel('')\n",
        "ax.set_title('Machine status percentages')\n",
        "plt.show()\n"
      ]
    },
    {
      "cell_type": "code",
      "source": [
        "# Extract hour of day and day of week from the timestamp\n",
        "df['timestamp'] = pd.to_datetime(df['timestamp'])\n",
        "df['hour'] = df['timestamp'].dt.hour\n",
        "df['day_of_week'] = df['timestamp'].dt.dayofweek\n",
        "\n",
        "# Group by hour of day and count the number of failures\n",
        "failures_by_hour = df[df['machine_status'] == 'Off'].groupby('hour').size()\n",
        "\n",
        "# Plot the frequency of machine failures by hour\n",
        "plt.bar(failures_by_hour.index, failures_by_hour.values)\n",
        "plt.xlabel('Hour of Day')\n",
        "plt.ylabel('Number of Off')\n",
        "plt.title('Machine Off by Hour of Day')\n",
        "plt.show()\n",
        "\n",
        "# Group by day of week and count the number of failures\n",
        "failures_by_day = df[df['machine_status'] == 'Off'].groupby('day_of_week').size()\n",
        "\n",
        "# Plot the frequency of machine failures by day of week\n",
        "plt.bar(failures_by_day.index, failures_by_day.values)\n",
        "plt.xlabel('Day of Week')\n",
        "plt.ylabel('Number of Off')\n",
        "plt.title('Machine Off by Day of Week')\n",
        "plt.xticks([0, 1, 2, 3, 4, 5, 6], ['Mon', 'Tue', 'Wed', 'Thu', 'Fri', 'Sat', 'Sun'])\n",
        "plt.show()\n"
      ],
      "metadata": {
        "colab": {
          "base_uri": "https://localhost:8080/",
          "height": 573
        },
        "id": "lV2avgh_5kPn",
        "outputId": "00c38f2f-27ab-493b-f702-5148faa1e035"
      },
      "id": "lV2avgh_5kPn",
      "execution_count": null,
      "outputs": [
        {
          "output_type": "display_data",
          "data": {
            "text/plain": [
              "<Figure size 432x288 with 1 Axes>"
            ],
            "image/png": "[encoded data removed]"
          },
          "metadata": {
            "needs_background": "light"
          }
        },
        {
          "output_type": "display_data",
          "data": {
            "text/plain": [
              "<Figure size 432x288 with 1 Axes>"
            ],
            "image/png": "[encoded data removed]"
          },
          "metadata": {
            "needs_background": "light"
          }
        }
      ]
    },
    {
      "cell_type": "code",
      "source": [
        "df.set_index('timestamp', inplace=True)\n",
        "daily_temps = df.resample('D').mean()\n",
        "\n",
        "\n",
        "# Create subplots with 3 rows and 1 column\n",
        "fig, axs = plt.subplots(3, 1, figsize=(10, 10))\n",
        "\n",
        "# Plot pressure on the first subplot\n",
        "axs[0].plot(daily_temps.index, daily_temps['pressure'])\n",
        "axs[0].set_xlabel('Time')\n",
        "axs[0].set_ylabel('Pressure')\n",
        "\n",
        "# Plot water level on the second subplot\n",
        "axs[1].plot(daily_temps.index, daily_temps['water_level'])\n",
        "axs[1].set_xlabel('Time')\n",
        "axs[1].set_ylabel('Water Level')\n",
        "\n",
        "# Plot temperature on the third subplot\n",
        "axs[2].plot(daily_temps.index, daily_temps['temperature'])\n",
        "axs[2].set_xlabel('Time')\n",
        "axs[2].set_ylabel('Temperature')\n",
        "\n",
        "# Set the title of the figure\n",
        "fig.suptitle('Machine Sensor Readings')\n",
        "\n",
        "# Display the figure\n",
        "plt.show()\n",
        "\n"
      ],
      "metadata": {
        "colab": {
          "base_uri": "https://localhost:8080/",
          "height": 677
        },
        "id": "hWIveKBC8JiI",
        "outputId": "e61184b6-7c33-46b2-bf77-f712c4747fa6"
      },
      "id": "hWIveKBC8JiI",
      "execution_count": null,
      "outputs": [
        {
          "output_type": "display_data",
          "data": {
            "text/plain": [
              "<Figure size 720x720 with 3 Axes>"
            ],
            "image/png": "[encoded data removed]"
          },
          "metadata": {
            "needs_background": "light"
          }
        }
      ]
    },
    {
      "cell_type": "code",
      "source": [
        "# Group the data by day and machine status\n",
        "daily_status_counts = df.groupby([df.index.date, 'machine_status'])['machine_status'].count()\n",
        "\n",
        "# Convert the groupby object to a DataFrame\n",
        "daily_status_counts = daily_status_counts.to_frame(name='count').reset_index()\n",
        "\n",
        "# Filter only the rows where machine_status is 'Failure'\n",
        "daily_failure_counts = daily_status_counts[daily_status_counts['machine_status'] == 'Failure']\n",
        "print(daily_failure_counts)\n",
        "# Group the data by day and count the number of failures for each day\n",
        "daily_failure_counts = daily_failure_counts.groupby(daily_failure_counts['level_0'])['count'].sum()\n",
        "\n",
        "# Find the day with the most failures\n",
        "max_failures_day = daily_failure_counts.idxmax()\n",
        "\n",
        "print(\"The day with the most failures is:\", max_failures_day)\n"
      ],
      "metadata": {
        "colab": {
          "base_uri": "https://localhost:8080/"
        },
        "id": "rpnI2cfz-GBc",
        "outputId": "0b8a4e2f-fb42-450e-b228-6f0cf277568b"
      },
      "id": "rpnI2cfz-GBc",
      "execution_count": null,
      "outputs": [
        {
          "output_type": "stream",
          "name": "stdout",
          "text": [
            "       level_0 machine_status  count\n",
            "0   2023-01-01        Failure    284\n",
            "4   2023-01-02        Failure    301\n",
            "8   2023-01-03        Failure    303\n",
            "12  2023-01-04        Failure    267\n",
            "16  2023-01-05        Failure    301\n",
            "20  2023-01-06        Failure    273\n",
            "24  2023-01-07        Failure    295\n",
            "The day with the most failures is: 2023-01-03\n"
          ]
        }
      ]
    },
    {
      "cell_type": "code",
      "source": [],
      "metadata": {
        "id": "h4E9QMte-RAl"
      },
      "id": "h4E9QMte-RAl",
      "execution_count": null,
      "outputs": []
    },
    {
      "cell_type": "code",
      "execution_count": 16,
      "id": "31d3b647",
      "metadata": {
        "id": "31d3b647",
        "outputId": "74f409aa-8376-45a5-bf5f-b621eb6e929a",
        "colab": {
          "base_uri": "https://localhost:8080/"
        }
      },
      "outputs": [
        {
          "output_type": "stream",
          "name": "stderr",
          "text": [
            "<ipython-input-16-04e87d67d337>:1: FutureWarning: Dropping of nuisance columns in DataFrame reductions (with 'numeric_only=None') is deprecated; in a future version this will raise TypeError.  Select only valid columns before calling the reduction.\n",
            "  df = df.fillna(df.mean())\n"
          ]
        }
      ],
      "source": [
        "df = df.fillna(df.mean())"
      ]
    },
    {
      "cell_type": "code",
      "source": [],
      "metadata": {
        "id": "S3ku8ICd-FRW"
      },
      "id": "S3ku8ICd-FRW",
      "execution_count": null,
      "outputs": []
    },
    {
      "cell_type": "code",
      "execution_count": 17,
      "id": "b9230f5b",
      "metadata": {
        "id": "b9230f5b",
        "outputId": "2f6d4315-75d4-42cd-9581-ef5901e35bb4",
        "colab": {
          "base_uri": "https://localhost:8080/"
        }
      },
      "outputs": [
        {
          "output_type": "stream",
          "name": "stdout",
          "text": [
            "Accuracy: 0.8040674603174603\n",
            "Confusion Matrix:\n",
            " [[6484    0]\n",
            " [1580    0]]\n",
            "Precision: 1.0\n",
            "Recall: 0.0\n",
            "F1-score: 0.0\n"
          ]
        }
      ],
      "source": [
        "# define the feature and target columns\n",
        "features = ['temperature', 'pressure', 'water_level']\n",
        "target = 'machine_status'\n",
        "\n",
        "# create a binary target column indicating whether the machine is in failure status or not\n",
        "df['Failure'] = df['machine_status'].apply(lambda x: 1 if x == 'Failure' else 0)\n",
        "\n",
        "# split the data into training and testing sets\n",
        "X_train, X_test, y_train, y_test = train_test_split(df[features], df['Failure'], test_size=0.8, random_state=42)\n",
        "\n",
        "# create a logistic regression model\n",
        "model = LogisticRegression()\n",
        "\n",
        "# train the model on the training data\n",
        "model.fit(X_train, y_train)\n",
        "\n",
        "# make predictions on the testing data\n",
        "y_pred = model.predict(X_test)\n",
        "\n",
        "\n",
        "\n",
        "# evaluate the accuracy of the model\n",
        "accuracy = accuracy_score(y_test, y_pred)\n",
        "print('Accuracy:', accuracy)\n",
        "\n",
        "# evaluate the confusion matrix of the model\n",
        "confusion = confusion_matrix(y_test, y_pred)\n",
        "print('Confusion Matrix:\\n', confusion)\n",
        "\n",
        "\n",
        "# calculate precision, recall, and F1-score\n",
        "precision = precision_score(y_test, y_pred,zero_division=1)\n",
        "recall = recall_score(y_test, y_pred,zero_division=1)\n",
        "f1 = f1_score(y_test, y_pred)\n",
        "\n",
        "print('Precision:', precision)\n",
        "print('Recall:', recall)\n",
        "print('F1-score:', f1)"
      ]
    },
    {
      "cell_type": "code",
      "source": [
        "# Import necessary libraries\n",
        "from imblearn.over_sampling import RandomOverSampler\n",
        "from imblearn.under_sampling import RandomUnderSampler\n",
        "\n",
        "# Instantiate oversampler and undersampler objects\n",
        "oversampler = RandomOverSampler(sampling_strategy='minority')\n",
        "undersampler = RandomUnderSampler(sampling_strategy='majority')\n",
        "\n",
        "# Perform oversampling on the training data\n",
        "X_train_over, y_train_over = oversampler.fit_resample(X_train, y_train)\n",
        "\n",
        "\n",
        "# create a logistic regression model\n",
        "model = LogisticRegression()\n",
        "\n",
        "# train the model on the training data\n",
        "model.fit(X_train_over, y_train_over)\n",
        "\n",
        "# make predictions on the testing data\n",
        "y_pred_over = model.predict(X_test)\n",
        "\n",
        "\n",
        "# evaluate the accuracy of the model\n",
        "accuracy_over = accuracy_score(y_test, y_pred_over)\n",
        "print('Accuracy:', accuracy_over)\n",
        "\n",
        "\n",
        "# evaluate the confusion matrix of the model\n",
        "confusion_over = confusion_matrix(y_test, y_pred_over)\n",
        "print('Confusion Matrix:\\n', confusion_over)\n",
        "\n",
        "\n",
        "# calculate precision, recall, and F1-score\n",
        "precision_over = precision_score(y_test, y_pred_over,zero_division=1)\n",
        "recall_over = recall_score(y_test, y_pred_over)\n",
        "f1_over = f1_score(y_test, y_pred_over)\n",
        "print('Precision:', precision_over)\n",
        "print('Recall:', recall_over)\n",
        "print('F1-score:', f1_over)"
      ],
      "metadata": {
        "colab": {
          "base_uri": "https://localhost:8080/"
        },
        "id": "ypG1D9qIDaLv",
        "outputId": "e2a97ab4-0ada-45ac-91d7-c95a863971c0"
      },
      "id": "ypG1D9qIDaLv",
      "execution_count": 18,
      "outputs": [
        {
          "output_type": "stream",
          "name": "stdout",
          "text": [
            "Accuracy: 0.5095486111111112\n",
            "Confusion Matrix:\n",
            " [[3322 3162]\n",
            " [ 793  787]]\n",
            "Precision: 0.19929095973664218\n",
            "Recall: 0.4981012658227848\n",
            "F1-score: 0.284680774100199\n"
          ]
        }
      ]
    },
    {
      "cell_type": "code",
      "source": [
        "\n"
      ],
      "metadata": {
        "id": "rImJB-_r5p3l"
      },
      "id": "rImJB-_r5p3l",
      "execution_count": 26,
      "outputs": []
    },
    {
      "cell_type": "code",
      "execution_count": 19,
      "id": "c7c55777",
      "metadata": {
        "id": "c7c55777",
        "outputId": "d6059af9-9c5d-47a4-cd8d-932f0f669f17",
        "colab": {
          "base_uri": "https://localhost:8080/",
          "height": 295
        }
      },
      "outputs": [
        {
          "output_type": "display_data",
          "data": {
            "text/plain": [
              "<Figure size 432x288 with 1 Axes>"
            ],
            "image/png": "[encoded data removed]"
          },
          "metadata": {
            "needs_background": "light"
          }
        }
      ],
      "source": [
        "# Calculate the ROC curve\n",
        "fpr, tpr, thresholds = roc_curve(y_test, y_pred_over)\n",
        "\n",
        "# Calculate the AUC score\n",
        "auc_score = roc_auc_score(y_test, y_pred_over)\n",
        "\n",
        "# Plot the ROC curve\n",
        "plt.plot(fpr, tpr, label='ROC curve (AUC = %0.2f)' % auc_score)\n",
        "plt.plot([0, 1], [0, 1], 'k--')\n",
        "plt.xlabel('False Positive Rate')\n",
        "plt.ylabel('True Positive Rate')\n",
        "plt.title('Receiver Operating Characteristic (ROC) Curve')\n",
        "plt.legend(loc=\"lower right\")\n",
        "plt.show()\n"
      ]
    },
    {
      "cell_type": "code",
      "execution_count": null,
      "id": "9cec8989",
      "metadata": {
        "id": "9cec8989",
        "outputId": "349159d8-520b-41d3-ed0c-80e38ef78220",
        "colab": {
          "base_uri": "https://localhost:8080/"
        }
      },
      "outputs": [
        {
          "output_type": "stream",
          "name": "stdout",
          "text": [
            "temperature   -0.009985\n",
            "pressure      -0.004389\n",
            "water_level   -0.002856\n",
            "Failure        1.000000\n",
            "Name: Failure, dtype: float64\n"
          ]
        }
      ],
      "source": [
        "# Create a binary target column indicating whether the machine is in failure status or not\n",
        "df['Failure'] = df['machine_status'].apply(lambda x: 1 if x == 'Failure' else 0)\n",
        "\n",
        "# Create a new DataFrame containing only the relevant columns\n",
        "df_corr = df[features + ['Failure']]\n",
        "\n",
        "# Calculate the correlation matrix\n",
        "corr_matrix = df_corr.corr()\n",
        "\n",
        "# Print the correlation coefficients for the Failure column\n",
        "print(corr_matrix['Failure'])\n"
      ]
    },
    {
      "cell_type": "code",
      "execution_count": null,
      "id": "437eff5f",
      "metadata": {
        "id": "437eff5f"
      },
      "outputs": [],
      "source": []
    },
    {
      "cell_type": "code",
      "execution_count": 24,
      "id": "2438c1b5",
      "metadata": {
        "id": "2438c1b5",
        "outputId": "1ec35dba-c0d1-4784-d3de-ec11b0f254de",
        "colab": {
          "base_uri": "https://localhost:8080/",
          "height": 643
        }
      },
      "outputs": [
        {
          "output_type": "stream",
          "name": "stdout",
          "text": [
            "                temperature  pressure  water_level  status_Failure  \\\n",
            "temperature        1.000000  0.011523     0.020243       -0.015417   \n",
            "pressure           0.011523  1.000000     0.019938       -0.009680   \n",
            "water_level        0.020243  0.019938     1.000000       -0.008764   \n",
            "status_Failure    -0.015417 -0.009680    -0.008764        1.000000   \n",
            "status_Idle        0.009048  0.005232     0.009212       -0.247274   \n",
            "status_Off         0.006619  0.006909    -0.008232       -0.163931   \n",
            "status_Running     0.001261 -0.000478     0.004576       -0.508150   \n",
            "\n",
            "                status_Idle  status_Off  status_Running  \n",
            "temperature        0.009048    0.006619        0.001261  \n",
            "pressure           0.005232    0.006909       -0.000478  \n",
            "water_level        0.009212   -0.008232        0.004576  \n",
            "status_Failure    -0.247274   -0.163931       -0.508150  \n",
            "status_Idle        1.000000   -0.161343       -0.500126  \n",
            "status_Off        -0.161343    1.000000       -0.331560  \n",
            "status_Running    -0.500126   -0.331560        1.000000  \n"
          ]
        },
        {
          "output_type": "display_data",
          "data": {
            "text/plain": [
              "<Figure size 432x288 with 2 Axes>"
            ],
            "image/png": "[encoded data removed]"
          },
          "metadata": {
            "needs_background": "light"
          }
        }
      ],
      "source": [
        "# Perform one-hot encoding on the machine_status column\n",
        "machine_status_encoded = pd.get_dummies(df['machine_status'], prefix='status')\n",
        "\n",
        "# Combine the encoded variables with the original DataFrame\n",
        "df_encoded = pd.concat([df, machine_status_encoded], axis=1)\n",
        "df_encoded= df_encoded.drop(['Failure'],axis=1)\n",
        "# Create the correlation matrix\n",
        "corr_matrix = df_encoded.corr()\n",
        "print(corr_matrix)\n",
        "# Create the heatmap using Seaborn\n",
        "sns.heatmap(corr_matrix, annot=True, cmap=\"coolwarm\")\n",
        "\n",
        "# Set the title of the heatmap\n",
        "plt.title(\"Correlation Heatmap\")\n",
        "\n",
        "# Show the plot\n",
        "plt.show()\n"
      ]
    },
    {
      "cell_type": "code",
      "execution_count": null,
      "id": "76a58473",
      "metadata": {
        "id": "76a58473",
        "outputId": "81c1231a-6443-4c20-cd91-ed838ab4329e",
        "colab": {
          "base_uri": "https://localhost:8080/"
        }
      },
      "outputs": [
        {
          "output_type": "stream",
          "name": "stdout",
          "text": [
            "The maximum number of consecutive running status before a failure occurs is: 14\n"
          ]
        }
      ],
      "source": [
        "# create a list to store the number of consecutive running status\n",
        "running_status_counts = []\n",
        "\n",
        "# initialize a counter for consecutive running status\n",
        "count = 0\n",
        "\n",
        "# iterate over the machine_status column\n",
        "for status in df['machine_status']:\n",
        "    if status == 'Running':\n",
        "        # if status is running, increment the counter\n",
        "        count += 1\n",
        "    else:\n",
        "        # if status is not running, append the count to the list and reset the counter\n",
        "        running_status_counts.append(count)\n",
        "        count = 0\n",
        "\n",
        "# find the maximum number of consecutive running status before a failure occurs\n",
        "max_running_status = max(running_status_counts)\n",
        "\n",
        "print(\"The maximum number of consecutive running status before a failure occurs is:\", max_running_status)\n",
        "\n"
      ]
    },
    {
      "cell_type": "code",
      "execution_count": null,
      "id": "9cd0284b",
      "metadata": {
        "id": "9cd0284b"
      },
      "outputs": [],
      "source": []
    },
    {
      "cell_type": "code",
      "execution_count": null,
      "id": "2829c949",
      "metadata": {
        "id": "2829c949"
      },
      "outputs": [],
      "source": []
    }
  ],
  "metadata": {
    "kernelspec": {
      "display_name": "Python 3 (ipykernel)",
      "language": "python",
      "name": "python3"
    },
    "language_info": {
      "codemirror_mode": {
        "name": "ipython",
        "version": 3
      },
      "file_extension": ".py",
      "mimetype": "text/x-python",
      "name": "python",
      "nbconvert_exporter": "python",
      "pygments_lexer": "ipython3",
      "version": "3.8.8"
    },
    "colab": {
      "provenance": []
    }
  },
  "nbformat": 4,
  "nbformat_minor": 5
}